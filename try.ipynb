{
 "cells": [
  {
   "cell_type": "code",
   "execution_count": 1,
   "id": "12057d9f",
   "metadata": {},
   "outputs": [],
   "source": [
    "import numpy as np\n",
    "import gdown "
   ]
  },
  {
   "cell_type": "code",
   "execution_count": 2,
   "id": "f6ff4b73",
   "metadata": {},
   "outputs": [],
   "source": [
    "url = \"https://drive.google.com/file/d/10owDublPes98HMAWgRHhjtpnExh27BXd/view?usp=drive_link\""
   ]
  },
  {
   "cell_type": "code",
   "execution_count": 3,
   "id": "075602fb",
   "metadata": {},
   "outputs": [
    {
     "data": {
      "text/plain": [
       "['https:',\n",
       " '',\n",
       " 'drive.google.com',\n",
       " 'file',\n",
       " 'd',\n",
       " '10owDublPes98HMAWgRHhjtpnExh27BXd',\n",
       " 'view?usp=drive_link']"
      ]
     },
     "execution_count": 3,
     "metadata": {},
     "output_type": "execute_result"
    }
   ],
   "source": [
    "url.split(\"/\")"
   ]
  },
  {
   "cell_type": "code",
   "execution_count": 5,
   "id": "d28578c7",
   "metadata": {},
   "outputs": [
    {
     "data": {
      "text/plain": [
       "'10owDublPes98HMAWgRHhjtpnExh27BXd'"
      ]
     },
     "execution_count": 5,
     "metadata": {},
     "output_type": "execute_result"
    }
   ],
   "source": [
    "file = url.split(\"/\")[-2]\n",
    "file"
   ]
  },
  {
   "cell_type": "code",
   "execution_count": null,
   "id": "16d9b532",
   "metadata": {},
   "outputs": [
    {
     "name": "stderr",
     "output_type": "stream",
     "text": [
      "Downloading...\n",
      "From (original): https://drive.google.com/uc?/export=download&id=10owDublPes98HMAWgRHhjtpnExh27BXd\n",
      "From (redirected): https://drive.google.com/uc?%2Fexport=download&id=10owDublPes98HMAWgRHhjtpnExh27BXd&confirm=t&uuid=a5a96d3d-999b-4b1a-8d86-cfed1cbf50da\n",
      "To: c:\\Users\\abhis\\OneDrive\\Desktop\\Deep-Learning-project\\chest_ct.zip\n",
      "100%|██████████| 44.5M/44.5M [00:04<00:00, 10.0MB/s]\n"
     ]
    },
    {
     "data": {
      "text/plain": [
       "'chest_ct.zip'"
      ]
     },
     "execution_count": 6,
     "metadata": {},
     "output_type": "execute_result"
    }
   ],
   "source": [
    "prefix = 'https://drive.google.com/uc?/export=download&id='\n",
    "gdown.download(prefix+file, 'chest_ct.zip')\n",
    "\n",
    "# use this prefix = prefix = 'https://drive.google.com/uc?export=download&id='"
   ]
  },
  {
   "cell_type": "code",
   "execution_count": null,
   "id": "aa86a0e3",
   "metadata": {},
   "outputs": [],
   "source": []
  }
 ],
 "metadata": {
  "kernelspec": {
   "display_name": "brest",
   "language": "python",
   "name": "python3"
  },
  "language_info": {
   "codemirror_mode": {
    "name": "ipython",
    "version": 3
   },
   "file_extension": ".py",
   "mimetype": "text/x-python",
   "name": "python",
   "nbconvert_exporter": "python",
   "pygments_lexer": "ipython3",
   "version": "3.9.15"
  }
 },
 "nbformat": 4,
 "nbformat_minor": 5
}
